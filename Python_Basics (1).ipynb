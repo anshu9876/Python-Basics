{
  "nbformat": 4,
  "nbformat_minor": 0,
  "metadata": {
    "colab": {
      "provenance": []
    },
    "kernelspec": {
      "name": "python3",
      "display_name": "Python 3"
    },
    "language_info": {
      "name": "python"
    }
  },
  "cells": [
    {
      "cell_type": "markdown",
      "source": [
        "1. What is Python, and why is it popular\u001a\n",
        "\n",
        "Ans-Python is a programming language mainly used in field of data science and artifical intellegence.It is popular because it is easy to learn and implement,it consist of lot of libraries which reduce the task of the user.\n",
        "Ex-mediapipe,tensorflow etc\n"
      ],
      "metadata": {
        "id": "F68ocAZV7Ek1"
      }
    },
    {
      "cell_type": "markdown",
      "source": [],
      "metadata": {
        "id": "wuFLBJ_77VtR"
      }
    },
    {
      "cell_type": "markdown",
      "source": [
        "2.What is an interpreter in Python\n",
        "\n",
        "Ans.An interpreter is a program that reads and executes Python code line by line"
      ],
      "metadata": {
        "id": "7_Hc9-Iq7YxY"
      }
    },
    {
      "cell_type": "markdown",
      "source": [
        "3.What are pre-defined keywords in Python\n",
        "\n",
        "Ans.Pre defined keywords are reserved word which meaning cannot be changed throughout the program,they cannot be used as variables in program\n",
        "Ex-true false return etc"
      ],
      "metadata": {
        "id": "RMb8Zjvx-lVD"
      }
    },
    {
      "cell_type": "markdown",
      "source": [
        "4.Can keywords be used as variable names\u001a\n",
        "\n",
        "Ans.No keywirds cannot be used as variable names"
      ],
      "metadata": {
        "id": "WHjBIv5EBdUZ"
      }
    },
    {
      "cell_type": "markdown",
      "source": [],
      "metadata": {
        "id": "5ZKOz-tDBoLr"
      }
    },
    {
      "cell_type": "markdown",
      "source": [
        "5.What is mutability in Python\u001a\n",
        "\n",
        "Ans.Mutability means we can make change in object anytime we want\n",
        "\n",
        "\n",
        "ex list=[1,2,3,4,6]\n",
        "\n",
        "\n",
        "print[list]   output:1,2,3,4,6\n",
        "\n",
        "\n",
        "list[2]=10\n",
        "\n",
        "\n",
        "print(list)   output:1,2,10,4,6"
      ],
      "metadata": {
        "id": "PoPiz52rBq2z"
      }
    },
    {
      "cell_type": "markdown",
      "source": [],
      "metadata": {
        "id": "zpTOQtl1__DW"
      }
    },
    {
      "cell_type": "markdown",
      "source": [
        "6.Why are lists mutable, but tuples are immutable\u001a\n",
        "\n",
        "Ans.Lists are designed to be flexible containers that can store items that may change over time. For example,, when you need a collection of items where you may need to add, remove, or modify elements\n",
        "\n",
        "Tuples on the other hand, are designed for situations where the data should remain constant and fixed after creation. Tuples are often used to represent records or structures that should that should not changed"
      ],
      "metadata": {
        "id": "A-Dt4lqBCdul"
      }
    },
    {
      "cell_type": "markdown",
      "source": [],
      "metadata": {
        "id": "NG6HOecVDA2b"
      }
    },
    {
      "cell_type": "markdown",
      "source": [
        "7. What is the difference between “==” and “is” operators in Python\u001a\n",
        "\n",
        "\n",
        "Ans.\"==\" operator is a assignment operator which means it is used to check if two variable are equal or not\n",
        "\n",
        "\n",
        "whereas \"is\" operator checks if two variables refer to the same object in memoryy"
      ],
      "metadata": {
        "id": "xxC194P_DgU2"
      }
    },
    {
      "cell_type": "markdown",
      "source": [
        "8.What are logical operators in Python\u001a\n",
        "\n",
        "Ans.Logical operator are used check the true value of the statements\n",
        "\n",
        "\n",
        "ex-and,or,xor,not"
      ],
      "metadata": {
        "id": "DaRB2WIdEczm"
      }
    },
    {
      "cell_type": "markdown",
      "source": [
        "9.What is type casting in Python\u001a\n",
        "\n",
        "Ans.Typecasting is a method to convert one datatype to other datatype according to the use\n"
      ],
      "metadata": {
        "id": "KB91RafmFhfg"
      }
    },
    {
      "cell_type": "markdown",
      "source": [
        "10.What is the difference between implicit and explicit type casting\u001a\n",
        "\n",
        "Ans.Implict type casting-\n",
        "\n",
        "This is done by the complier itself.\n",
        "\n",
        "x=9 y=7.5\n",
        "\n",
        "d=x+y\n",
        "\n",
        "print(d)\n",
        "\n",
        "output 16.5\n",
        "\n",
        "Explicit type casting-\n",
        "\n",
        "This is done by the programmer itself according to the use\n",
        "\n",
        "x=9 y=7.5\n",
        "\n",
        "d=x+int(y)\n",
        "\n",
        "print(d)\n",
        "\n",
        "output 16\n"
      ],
      "metadata": {
        "id": "hfO8XWZyF9n_"
      }
    },
    {
      "cell_type": "markdown",
      "source": [
        "11. What is the purpose of conditional statements in Python\u001a\n",
        "\n",
        "Ans.In python we write code and it consist of some conditions if are required in the program to write the condition we use conditional statement in python\n",
        "it is used is decision making and they control the flow of program."
      ],
      "metadata": {
        "id": "HWfJLIs5HKPp"
      }
    },
    {
      "cell_type": "markdown",
      "source": [],
      "metadata": {
        "id": "gCbUsldGEZ-x"
      }
    },
    {
      "cell_type": "markdown",
      "source": [
        "12. How does the elif statement work\u001a\n",
        "\n",
        "Ans.The elif statement in Python is used to check multiple conditions sequentially after the initial if statement it allows you to check additional conditions if the previous if or elif conditions were not true if one of the elif conditions is true, it executes the corresponding block of code"
      ],
      "metadata": {
        "id": "E6n8Xnj4HvJ8"
      }
    },
    {
      "cell_type": "markdown",
      "source": [
        "13.What is the difference between for and while loops\u001a\n",
        "\n",
        "Ans.For loop\n",
        "\n",
        "For loop is basically used to itrate over a data structure or seqeuence\n",
        "\n",
        "While loop\n",
        "\n",
        "The while loop is used to repeatedly execute a block of code as long as a condition is True"
      ],
      "metadata": {
        "id": "7Q7gdyWaIMo2"
      }
    },
    {
      "cell_type": "markdown",
      "source": [
        "14. Describe a scenario where a while loop is more suitable than a for loop.\n",
        "\n",
        "Ans.A while loop is more suitable when you need to keep repeating a task until a certain condition is met and you do not know in advance how many iterations will be required\n",
        "\n",
        "correct_password = \"secure123\"\n",
        "user_input = \"\"\n",
        "\n",
        "while user_input != correct_password:\n",
        "    user_input = input(\"Enter your password: \")\n",
        "    if user_input != correct_password:\n",
        "        print(\"Incorrect password. Try again.\")\n",
        "        \n",
        "print(\"Password accepted!\")\n",
        "\n",
        "\n",
        " We don't know in advance how many times the user will need to try to enter the correct password. The loop should continue as long as the condition (user_input != correct_password) is true.\n"
      ],
      "metadata": {
        "id": "-g1yOLxnIruV"
      }
    },
    {
      "cell_type": "markdown",
      "source": [
        "Practical Questions\n",
        "\n",
        "1.20 Write a Python program to print \"Hello, World!\n"
      ],
      "metadata": {
        "id": "vlHstoHlO4vj"
      }
    },
    {
      "cell_type": "code",
      "source": [
        "print(\"Hello, World!\")"
      ],
      "metadata": {
        "colab": {
          "base_uri": "https://localhost:8080/"
        },
        "id": "_Sxpecr8PAZa",
        "outputId": "8be1d512-0b11-46f4-a3df-206c3d6a0600"
      },
      "execution_count": 1,
      "outputs": [
        {
          "output_type": "stream",
          "name": "stdout",
          "text": [
            "Hello, World!\n"
          ]
        }
      ]
    },
    {
      "cell_type": "markdown",
      "source": [
        "2.Write a Python program that displays your name and age"
      ],
      "metadata": {
        "id": "iRxOpqzTPNKe"
      }
    },
    {
      "cell_type": "code",
      "source": [
        "print(\"sumit\")\n",
        "print(\"20\")"
      ],
      "metadata": {
        "colab": {
          "base_uri": "https://localhost:8080/"
        },
        "id": "qg3vTubYPUXU",
        "outputId": "e201dc46-6ff1-4549-856c-e57cfe75817c"
      },
      "execution_count": 2,
      "outputs": [
        {
          "output_type": "stream",
          "name": "stdout",
          "text": [
            "sumit\n",
            "20\n"
          ]
        }
      ]
    },
    {
      "cell_type": "code",
      "source": [],
      "metadata": {
        "id": "3kX5EdFwP4vD"
      },
      "execution_count": null,
      "outputs": []
    },
    {
      "cell_type": "markdown",
      "source": [
        "3.Write code to print all the pre-defined keywords in Python using the keyword library"
      ],
      "metadata": {
        "id": "-uOrvKDhPcu1"
      }
    },
    {
      "cell_type": "code",
      "source": [
        "import keyword\n",
        "print(keyword.kwlist)"
      ],
      "metadata": {
        "colab": {
          "base_uri": "https://localhost:8080/"
        },
        "id": "dLIIXh7mPhEW",
        "outputId": "3db7f84b-ef4c-4b7b-84fd-95a715a579be"
      },
      "execution_count": 3,
      "outputs": [
        {
          "output_type": "stream",
          "name": "stdout",
          "text": [
            "['False', 'None', 'True', 'and', 'as', 'assert', 'async', 'await', 'break', 'class', 'continue', 'def', 'del', 'elif', 'else', 'except', 'finally', 'for', 'from', 'global', 'if', 'import', 'in', 'is', 'lambda', 'nonlocal', 'not', 'or', 'pass', 'raise', 'return', 'try', 'while', 'with', 'yield']\n"
          ]
        }
      ]
    },
    {
      "cell_type": "markdown",
      "source": [
        "4.Write a program that checks if a given word is a Python keyword"
      ],
      "metadata": {
        "id": "5zdyWMHeP-Ss"
      }
    },
    {
      "cell_type": "code",
      "source": [
        "import keyword\n",
        "n=input(\"enter the word:\")\n",
        "for i in keyword.kwlist:\n",
        "  if i==n:\n",
        "    print(\"it is a keyword\")\n",
        "    break\n",
        "else:\n",
        "  print(\"it is not a keyword\")"
      ],
      "metadata": {
        "colab": {
          "base_uri": "https://localhost:8080/"
        },
        "id": "yT96IYIXQCCN",
        "outputId": "510c4c17-f2be-4989-89cb-ccc38231cc07"
      },
      "execution_count": 5,
      "outputs": [
        {
          "output_type": "stream",
          "name": "stdout",
          "text": [
            "enter the word:and\n",
            "it is a keyword\n"
          ]
        }
      ]
    },
    {
      "cell_type": "markdown",
      "source": [
        "5. Create a list and tuple in Python, and demonstrate how attempting to change an element works differently\n",
        "for each"
      ],
      "metadata": {
        "id": "3PC8C0qkRIZc"
      }
    },
    {
      "cell_type": "code",
      "source": [
        "\n",
        "list=[1,2,\"saumya loves kittu\",\"fdsdji\"]\n",
        "tuple=(1,2,4,\"saumya loves kittu\",\"frhufusd\")\n",
        "print(list)\n",
        "list[1]=98\n",
        "print(list)\n",
        "tuple[0]=8\n",
        "print(tuple)\n",
        "\n",
        "#tuples are immutable"
      ],
      "metadata": {
        "colab": {
          "base_uri": "https://localhost:8080/",
          "height": 228
        },
        "id": "6sGkDmPsR4ws",
        "outputId": "0cd8cc31-c302-400f-d2cb-fc8c3c845496"
      },
      "execution_count": 15,
      "outputs": [
        {
          "output_type": "stream",
          "name": "stdout",
          "text": [
            "[1, 2, 'saumya loves kittu', 'fdsdji']\n",
            "[1, 98, 'saumya loves kittu', 'fdsdji']\n"
          ]
        },
        {
          "output_type": "error",
          "ename": "TypeError",
          "evalue": "'tuple' object does not support item assignment",
          "traceback": [
            "\u001b[0;31m---------------------------------------------------------------------------\u001b[0m",
            "\u001b[0;31mTypeError\u001b[0m                                 Traceback (most recent call last)",
            "\u001b[0;32m<ipython-input-15-6dbed49ec198>\u001b[0m in \u001b[0;36m<cell line: 6>\u001b[0;34m()\u001b[0m\n\u001b[1;32m      4\u001b[0m \u001b[0mlist\u001b[0m\u001b[0;34m[\u001b[0m\u001b[0;36m1\u001b[0m\u001b[0;34m]\u001b[0m\u001b[0;34m=\u001b[0m\u001b[0;36m98\u001b[0m\u001b[0;34m\u001b[0m\u001b[0;34m\u001b[0m\u001b[0m\n\u001b[1;32m      5\u001b[0m \u001b[0mprint\u001b[0m\u001b[0;34m(\u001b[0m\u001b[0mlist\u001b[0m\u001b[0;34m)\u001b[0m\u001b[0;34m\u001b[0m\u001b[0;34m\u001b[0m\u001b[0m\n\u001b[0;32m----> 6\u001b[0;31m \u001b[0mtuple\u001b[0m\u001b[0;34m[\u001b[0m\u001b[0;36m0\u001b[0m\u001b[0;34m]\u001b[0m\u001b[0;34m=\u001b[0m\u001b[0;36m87\u001b[0m\u001b[0;34m\u001b[0m\u001b[0;34m\u001b[0m\u001b[0m\n\u001b[0m\u001b[1;32m      7\u001b[0m \u001b[0mprint\u001b[0m\u001b[0;34m(\u001b[0m\u001b[0mtuple\u001b[0m\u001b[0;34m)\u001b[0m\u001b[0;34m\u001b[0m\u001b[0;34m\u001b[0m\u001b[0m\n",
            "\u001b[0;31mTypeError\u001b[0m: 'tuple' object does not support item assignment"
          ]
        }
      ]
    },
    {
      "cell_type": "markdown",
      "source": [
        "6.Write a function to demonstrate the behavior of mutable and immutable arguments"
      ],
      "metadata": {
        "id": "aubOaZK4SWHa"
      }
    },
    {
      "cell_type": "code",
      "source": [],
      "metadata": {
        "id": "HhhO960xScjt"
      },
      "execution_count": null,
      "outputs": []
    },
    {
      "cell_type": "markdown",
      "source": [],
      "metadata": {
        "id": "0SDR_eQaSg6I"
      }
    },
    {
      "cell_type": "markdown",
      "source": [
        "8.Write a program to demonstrate the use of logical operator\n"
      ],
      "metadata": {
        "id": "-YO859PoSiUY"
      }
    },
    {
      "cell_type": "code",
      "source": [
        "n=int(input(\"enter the number:\"))\n",
        "a=int(input(\"enter the number:\"))\n",
        "\n",
        "if(a>0 and n>-1):\n",
        "  print(\"yes\")\n",
        "\n",
        "  if(a>0 or n>-3):\n",
        "        print(\"no\")"
      ],
      "metadata": {
        "colab": {
          "base_uri": "https://localhost:8080/"
        },
        "id": "z2j6nRwvTFkv",
        "outputId": "3a93f9c6-3ca3-4572-8bef-3e8a532b22f2"
      },
      "execution_count": 17,
      "outputs": [
        {
          "output_type": "stream",
          "name": "stdout",
          "text": [
            "enter the number:5\n",
            "enter the number:5\n",
            "yes\n",
            "no\n"
          ]
        }
      ]
    },
    {
      "cell_type": "markdown",
      "source": [
        "9.Write a Python program to convert user input from string to integer, float, and boolean types\n"
      ],
      "metadata": {
        "id": "goPzedEyTpWN"
      }
    },
    {
      "cell_type": "code",
      "source": [
        "n=input(\"enter the number:\")\n",
        "print(int(n))\n",
        "print(float(n))\n",
        "print(bool(n))"
      ],
      "metadata": {
        "colab": {
          "base_uri": "https://localhost:8080/"
        },
        "id": "Qut6G1jLTr-x",
        "outputId": "099b0a9e-9de5-47b3-abda-8d930d522354"
      },
      "execution_count": 18,
      "outputs": [
        {
          "output_type": "stream",
          "name": "stdout",
          "text": [
            "enter the number:54\n",
            "54\n",
            "54.0\n",
            "True\n"
          ]
        }
      ]
    },
    {
      "cell_type": "markdown",
      "source": [
        " 10.Write code to demonstrate type casting with list elements"
      ],
      "metadata": {
        "id": "NDrMdFwPT2jL"
      }
    },
    {
      "cell_type": "code",
      "source": [
        "l=[1,23,5,2,\"sumit\",986]\n",
        "print(l)\n",
        "print(str(l))\n",
        "\n",
        "print(set(l))"
      ],
      "metadata": {
        "colab": {
          "base_uri": "https://localhost:8080/"
        },
        "id": "cj13L87aT8d4",
        "outputId": "06b41006-9858-4b9b-a93d-c5fe7db12351"
      },
      "execution_count": 20,
      "outputs": [
        {
          "output_type": "stream",
          "name": "stdout",
          "text": [
            "[1, 23, 5, 2, 'sumit', 986]\n",
            "[1, 23, 5, 2, 'sumit', 986]\n",
            "{1, 2, 5, 'sumit', 23, 986}\n"
          ]
        }
      ]
    },
    {
      "cell_type": "markdown",
      "source": [
        "11. Write a program that checks if a number is positive, negative, or zero\n"
      ],
      "metadata": {
        "id": "YbIeTLElUdxd"
      }
    },
    {
      "cell_type": "code",
      "source": [
        "n=int(input(\"enter the number:\"))\n",
        "if(n>0):\n",
        "  print(\"positive\")\n",
        "elif(n<0):\n",
        "  print(\"negative\")\n",
        "else:\n",
        "  print(\"zero\")"
      ],
      "metadata": {
        "colab": {
          "base_uri": "https://localhost:8080/"
        },
        "id": "in7JbjLPUjQa",
        "outputId": "76e655f0-8c10-4e27-b0e7-be13d60e2c7f"
      },
      "execution_count": 21,
      "outputs": [
        {
          "output_type": "stream",
          "name": "stdout",
          "text": [
            "enter the number:54\n",
            "positive\n"
          ]
        }
      ]
    },
    {
      "cell_type": "markdown",
      "source": [
        "12.Write a for loop to print numbers from 1 to 100"
      ],
      "metadata": {
        "id": "O8-se_N5U9Br"
      }
    },
    {
      "cell_type": "code",
      "source": [
        "for i in range(1,11):\n",
        "  print(i)"
      ],
      "metadata": {
        "colab": {
          "base_uri": "https://localhost:8080/"
        },
        "id": "WrQM6KolU-_Z",
        "outputId": "c16aa5ac-ef56-4c20-a9d0-934ab3339d04"
      },
      "execution_count": 22,
      "outputs": [
        {
          "output_type": "stream",
          "name": "stdout",
          "text": [
            "1\n",
            "2\n",
            "3\n",
            "4\n",
            "5\n",
            "6\n",
            "7\n",
            "8\n",
            "9\n",
            "10\n"
          ]
        }
      ]
    },
    {
      "cell_type": "markdown",
      "source": [],
      "metadata": {
        "id": "kBYI1E-oVHT6"
      }
    },
    {
      "cell_type": "markdown",
      "source": [
        "13.Write a Python program to find the sum of all even numbers between 1 and 50"
      ],
      "metadata": {
        "id": "zdPbpgBEVInp"
      }
    },
    {
      "cell_type": "code",
      "source": [
        "total=0\n",
        "for number in range(1, 51):\n",
        "   if number % 2 == 0:\n",
        "            total += number\n",
        "            print(total)"
      ],
      "metadata": {
        "colab": {
          "base_uri": "https://localhost:8080/"
        },
        "id": "_vLWiqncV7LD",
        "outputId": "f2a15785-7052-4f28-9788-ae8273d12399"
      },
      "execution_count": 30,
      "outputs": [
        {
          "output_type": "stream",
          "name": "stdout",
          "text": [
            "2\n",
            "6\n",
            "12\n",
            "20\n",
            "30\n",
            "42\n",
            "56\n",
            "72\n",
            "90\n",
            "110\n",
            "132\n",
            "156\n",
            "182\n",
            "210\n",
            "240\n",
            "272\n",
            "306\n",
            "342\n",
            "380\n",
            "420\n",
            "462\n",
            "506\n",
            "552\n",
            "600\n",
            "650\n"
          ]
        }
      ]
    },
    {
      "cell_type": "markdown",
      "source": [
        "14. Write a program to reverse a string using a while loop\n"
      ],
      "metadata": {
        "id": "gSyhvvq_WcV8"
      }
    },
    {
      "cell_type": "code",
      "source": [
        "str = \"sumit\"\n",
        "left = 0\n",
        "right = len(str) - 1\n",
        "\n",
        "\n",
        "str_list = list(str)\n",
        "\n",
        "while left < right:\n",
        "\n",
        "    temp = str_list[left]\n",
        "    str_list[left] = str_list[right]\n",
        "    str_list[right] = temp\n",
        "\n",
        "    left += 1\n",
        "    right -= 1\n",
        "reversed_str = ''.join(str_list)\n",
        "\n",
        "print(reversed_str)\n",
        "\n",
        "\n",
        "\n",
        "\n"
      ],
      "metadata": {
        "colab": {
          "base_uri": "https://localhost:8080/"
        },
        "id": "dxqZIyJcWh3c",
        "outputId": "06cf5e58-ae4a-4683-caf9-ba4bd7286bed"
      },
      "execution_count": 3,
      "outputs": [
        {
          "output_type": "stream",
          "name": "stdout",
          "text": [
            "timus\n"
          ]
        }
      ]
    },
    {
      "cell_type": "markdown",
      "source": [
        "15. Write a Python program to calculate the factorial of a number provided by the user using a while loop."
      ],
      "metadata": {
        "id": "2-HcDol467vH"
      }
    },
    {
      "cell_type": "code",
      "source": [
        "n=5;\n",
        "fact=1\n",
        "while(n>0):\n",
        "  fact=fact*n\n",
        "  n=n-1\n",
        "print(fact)"
      ],
      "metadata": {
        "colab": {
          "base_uri": "https://localhost:8080/"
        },
        "id": "mh_49Krg6_FT",
        "outputId": "704ba647-f696-4856-a7a4-a9b5207ed0b5"
      },
      "execution_count": 4,
      "outputs": [
        {
          "output_type": "stream",
          "name": "stdout",
          "text": [
            "120\n"
          ]
        }
      ]
    }
  ]
}